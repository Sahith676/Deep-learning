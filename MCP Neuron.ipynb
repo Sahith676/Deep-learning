{
 "cells": [
  {
   "cell_type": "code",
   "execution_count": 6,
   "id": "42f9805c",
   "metadata": {},
   "outputs": [],
   "source": [
    "def mcp_neuron(*args,x = None,func = None):\n",
    "    if any(val != 0 and val != 1 for val in x):\n",
    "        raise ValueError('Input should be either 0 or 1')\n",
    "    agg_func = sum(x)\n",
    "    if func == 'AND':\n",
    "        if agg_func == len(x):\n",
    "            return 1\n",
    "        else:\n",
    "            return 0\n",
    "    elif func == 'OR':\n",
    "        if agg_func == 0:\n",
    "            return 0\n",
    "        else:\n",
    "            return 1\n",
    "    else:\n",
    "        raise ValueError('Operation is not applicable')"
   ]
  },
  {
   "cell_type": "code",
   "execution_count": 8,
   "id": "45a9c131",
   "metadata": {},
   "outputs": [
    {
     "name": "stdout",
     "output_type": "stream",
     "text": [
      "AND Operator: 0\n",
      "OR Operator: 1\n"
     ]
    }
   ],
   "source": [
    "and_ope = mcp_neuron(x = [1,0,1,1,0],func = 'AND')\n",
    "print('AND Operator:',and_ope)\n",
    "\n",
    "or_ope = mcp_neuron(x = [1,0,1,1,0],func = 'OR')\n",
    "print('OR Operator:',or_ope)"
   ]
  },
  {
   "cell_type": "code",
   "execution_count": null,
   "id": "bf08933b",
   "metadata": {},
   "outputs": [],
   "source": []
  }
 ],
 "metadata": {
  "kernelspec": {
   "display_name": "Python 3 (ipykernel)",
   "language": "python",
   "name": "python3"
  },
  "language_info": {
   "codemirror_mode": {
    "name": "ipython",
    "version": 3
   },
   "file_extension": ".py",
   "mimetype": "text/x-python",
   "name": "python",
   "nbconvert_exporter": "python",
   "pygments_lexer": "ipython3",
   "version": "3.9.13"
  }
 },
 "nbformat": 4,
 "nbformat_minor": 5
}
